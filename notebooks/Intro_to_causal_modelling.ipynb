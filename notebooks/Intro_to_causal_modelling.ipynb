{
 "cells": [
  {
   "cell_type": "markdown",
   "metadata": {},
   "source": [
    "# Introduction to causal modelling part 1"
   ]
  },
  {
   "cell_type": "code",
   "execution_count": 1,
   "metadata": {},
   "outputs": [],
   "source": [
    "from IPython.display import Image\n",
    "import pandas as pd\n",
    "import numpy as np\n",
    "import random"
   ]
  },
  {
   "cell_type": "code",
   "execution_count": 2,
   "metadata": {},
   "outputs": [],
   "source": [
    "notebook_path = '/Users/pavansangha/Desktop/BayesAI/bayesai.io/Notebooks/PGMs/prod_notebooks/'"
   ]
  },
  {
   "cell_type": "markdown",
   "metadata": {},
   "source": [
    "## Data generation code"
   ]
  },
  {
   "cell_type": "code",
   "execution_count": 4,
   "metadata": {},
   "outputs": [],
   "source": [
    "people = ['Rheia','Kronos','Demeter',\n",
    "          'Hades','Hestia','Poseidon',\n",
    "          'Hera','Zeus','Artemis',\n",
    "          'Apollo','Leto','Ares',\n",
    "          'Athena','Hephaestus','Aphrodite',\n",
    "          'Cyclope','Persephone','Hermes','Hebe','Dionysus']\n",
    "\n",
    "y0 = [0,1,0,0,0,1,0,0,1,1,0,1,1,0,0,0,1,1,1,1]\n",
    "y1 = [1,0,0,0,0,0,0,1,1,0,1,1,1,1,1,1,1,0,0,0]\n",
    "data = pd.DataFrame({'people':people,'y^a=0':y0,'y^a=1':y1})"
   ]
  },
  {
   "cell_type": "markdown",
   "metadata": {},
   "source": [
    "## Section 1: Introducing some terminology"
   ]
  },
  {
   "cell_type": "markdown",
   "metadata": {},
   "source": [
    "* We start with a simple example where there are two types of treatment denoted $a=0$ and $a=1$.\n",
    "* For each individual in our population we let $Y^{a=0}$ and $Y^{a=1}$ denote the outcomes of each treatment, which we assume is deterministic for each individual. \n",
    "* These variables are called counterfactual because at any moment in time for an individual we can only observe one of $Y^{a=i}$ by assigning that particular treatment. \n",
    "\n",
    "### Section 1.1: Causal Effects\n",
    "\n"
   ]
  },
  {
   "cell_type": "markdown",
   "metadata": {},
   "source": [
    "$\\textbf{Definition 1.1.1}$: We say that there is an individual causal effect if $Y^{a=0} \\neq Y^{a=1}$\n",
    "\n",
    "* As mentioned above individual causal effects cannot be identified because only one potential outcome can be observed.\n",
    "\n",
    "* We pretend as though we are in a world where we can observe both $Y^{a=1}$ and $Y^{a=0}$ for purposes of illustration.\n",
    "\n",
    "* The sample data is shown below.\n",
    "\n",
    "* For each individual and treatment $j=0,1$ the variable $Y^{a=j}=1$ if the outcome is a success under this treatment else $0$. We do not attach a particular application to the data to keep the interpretations flexible. "
   ]
  },
  {
   "cell_type": "code",
   "execution_count": 5,
   "metadata": {},
   "outputs": [
    {
     "data": {
      "text/html": [
       "<div>\n",
       "<style scoped>\n",
       "    .dataframe tbody tr th:only-of-type {\n",
       "        vertical-align: middle;\n",
       "    }\n",
       "\n",
       "    .dataframe tbody tr th {\n",
       "        vertical-align: top;\n",
       "    }\n",
       "\n",
       "    .dataframe thead th {\n",
       "        text-align: right;\n",
       "    }\n",
       "</style>\n",
       "<table border=\"1\" class=\"dataframe\">\n",
       "  <thead>\n",
       "    <tr style=\"text-align: right;\">\n",
       "      <th></th>\n",
       "      <th>people</th>\n",
       "      <th>y^a=0</th>\n",
       "      <th>y^a=1</th>\n",
       "    </tr>\n",
       "  </thead>\n",
       "  <tbody>\n",
       "    <tr>\n",
       "      <th>0</th>\n",
       "      <td>Rheia</td>\n",
       "      <td>0</td>\n",
       "      <td>1</td>\n",
       "    </tr>\n",
       "    <tr>\n",
       "      <th>1</th>\n",
       "      <td>Kronos</td>\n",
       "      <td>1</td>\n",
       "      <td>0</td>\n",
       "    </tr>\n",
       "    <tr>\n",
       "      <th>2</th>\n",
       "      <td>Demeter</td>\n",
       "      <td>0</td>\n",
       "      <td>0</td>\n",
       "    </tr>\n",
       "    <tr>\n",
       "      <th>3</th>\n",
       "      <td>Hades</td>\n",
       "      <td>0</td>\n",
       "      <td>0</td>\n",
       "    </tr>\n",
       "    <tr>\n",
       "      <th>4</th>\n",
       "      <td>Hestia</td>\n",
       "      <td>0</td>\n",
       "      <td>0</td>\n",
       "    </tr>\n",
       "    <tr>\n",
       "      <th>5</th>\n",
       "      <td>Poseidon</td>\n",
       "      <td>1</td>\n",
       "      <td>0</td>\n",
       "    </tr>\n",
       "    <tr>\n",
       "      <th>6</th>\n",
       "      <td>Hera</td>\n",
       "      <td>0</td>\n",
       "      <td>0</td>\n",
       "    </tr>\n",
       "    <tr>\n",
       "      <th>7</th>\n",
       "      <td>Zeus</td>\n",
       "      <td>0</td>\n",
       "      <td>1</td>\n",
       "    </tr>\n",
       "    <tr>\n",
       "      <th>8</th>\n",
       "      <td>Artemis</td>\n",
       "      <td>1</td>\n",
       "      <td>1</td>\n",
       "    </tr>\n",
       "    <tr>\n",
       "      <th>9</th>\n",
       "      <td>Apollo</td>\n",
       "      <td>1</td>\n",
       "      <td>0</td>\n",
       "    </tr>\n",
       "    <tr>\n",
       "      <th>10</th>\n",
       "      <td>Leto</td>\n",
       "      <td>0</td>\n",
       "      <td>1</td>\n",
       "    </tr>\n",
       "    <tr>\n",
       "      <th>11</th>\n",
       "      <td>Ares</td>\n",
       "      <td>1</td>\n",
       "      <td>1</td>\n",
       "    </tr>\n",
       "    <tr>\n",
       "      <th>12</th>\n",
       "      <td>Athena</td>\n",
       "      <td>1</td>\n",
       "      <td>1</td>\n",
       "    </tr>\n",
       "    <tr>\n",
       "      <th>13</th>\n",
       "      <td>Hephaestus</td>\n",
       "      <td>0</td>\n",
       "      <td>1</td>\n",
       "    </tr>\n",
       "    <tr>\n",
       "      <th>14</th>\n",
       "      <td>Aphrodite</td>\n",
       "      <td>0</td>\n",
       "      <td>1</td>\n",
       "    </tr>\n",
       "    <tr>\n",
       "      <th>15</th>\n",
       "      <td>Cyclope</td>\n",
       "      <td>0</td>\n",
       "      <td>1</td>\n",
       "    </tr>\n",
       "    <tr>\n",
       "      <th>16</th>\n",
       "      <td>Persephone</td>\n",
       "      <td>1</td>\n",
       "      <td>1</td>\n",
       "    </tr>\n",
       "    <tr>\n",
       "      <th>17</th>\n",
       "      <td>Hermes</td>\n",
       "      <td>1</td>\n",
       "      <td>0</td>\n",
       "    </tr>\n",
       "    <tr>\n",
       "      <th>18</th>\n",
       "      <td>Hebe</td>\n",
       "      <td>1</td>\n",
       "      <td>0</td>\n",
       "    </tr>\n",
       "    <tr>\n",
       "      <th>19</th>\n",
       "      <td>Dionysus</td>\n",
       "      <td>1</td>\n",
       "      <td>0</td>\n",
       "    </tr>\n",
       "  </tbody>\n",
       "</table>\n",
       "</div>"
      ],
      "text/plain": [
       "        people  y^a=0  y^a=1\n",
       "0        Rheia      0      1\n",
       "1       Kronos      1      0\n",
       "2      Demeter      0      0\n",
       "3        Hades      0      0\n",
       "4       Hestia      0      0\n",
       "5     Poseidon      1      0\n",
       "6         Hera      0      0\n",
       "7         Zeus      0      1\n",
       "8      Artemis      1      1\n",
       "9       Apollo      1      0\n",
       "10        Leto      0      1\n",
       "11        Ares      1      1\n",
       "12      Athena      1      1\n",
       "13  Hephaestus      0      1\n",
       "14   Aphrodite      0      1\n",
       "15     Cyclope      0      1\n",
       "16  Persephone      1      1\n",
       "17      Hermes      1      0\n",
       "18        Hebe      1      0\n",
       "19    Dionysus      1      0"
      ]
     },
     "execution_count": 5,
     "metadata": {},
     "output_type": "execute_result"
    }
   ],
   "source": [
    "data"
   ]
  },
  {
   "cell_type": "markdown",
   "metadata": {},
   "source": [
    "* Since we cannot observe individual causal effects we focus on population causal effects introduced in the next section. \n",
    "\n",
    "* Note above in real life we would NOT have access to everyones full data but to introduce the concepts in the next few sections its useful to pretend that we do. "
   ]
  },
  {
   "cell_type": "markdown",
   "metadata": {},
   "source": [
    "## Section 2: Average Causal effects\n",
    "\n",
    "* We said that by assumption $Y^{a=1}$ at individual level is NOT random. However consider choosing an individual from the population uniformaly at random. We can talk about $P(Y^{a=i}=j)$ which is the probability that a random person from the population has outcome $j$ under treatment $i$.  \n",
    "\n",
    "* Let us calculate the probabilities $P(Y^{a=1} = 1)$ and $P(Y^{a=0}=1)$ from our data, since in this hypothetical world we know the outcomes for each individual.\n",
    "\n"
   ]
  },
  {
   "cell_type": "code",
   "execution_count": 9,
   "metadata": {},
   "outputs": [
    {
     "name": "stdout",
     "output_type": "stream",
     "text": [
      "P(Y^(a=0)=1)=0.5\n",
      "P(Y^(a=1)=1)=0.5\n"
     ]
    }
   ],
   "source": [
    "PY_a1 = data['y^a=1'].sum()/data.shape[0]\n",
    "PY_a0 = data['y^a=0'].sum()/data.shape[0]\n",
    "\n",
    "print('P(Y^(a=0)=1)='+str(PY_a0))\n",
    "print('P(Y^(a=1)=1)='+str(PY_a1))"
   ]
  },
  {
   "cell_type": "markdown",
   "metadata": {},
   "source": [
    "$\\textbf{Definition 2.1}$: $\\textbf{Causal Null hypothesis}$: No average causal effect i.e. $P(Y^{a=1}=1) = P(Y^{a=1}=0)$. \n",
    "\n",
    "* So there is a causal effect if $P(Y^{a=1}=1) \\neq P(Y^{a=0}=1)$. Or equivalently for binary random variables if $\\mathbb{E}(Y^{a=1}) \\neq \\mathbb{E}(Y^{a=0})$.\n",
    "\n",
    "* In the example above $P(Y^{a=0}=1) = P(Y^{a=1}=1) = 0.5$ and thus there is no causal effect (average).\n",
    "\n",
    "* In our example with dichotomous variables we can re-write the Null hypothesis as $\\mathbb{E}(Y^{a=1}) = \\mathbb{E}(Y^{a=0})$."
   ]
  },
  {
   "cell_type": "markdown",
   "metadata": {},
   "source": [
    "## Section 3: Measures of causal effect "
   ]
  },
  {
   "cell_type": "markdown",
   "metadata": {},
   "source": [
    "* We introduce the following three measures of causal effect which are slighly more specific that just noting that $P(Y^{a=1}=1) \\neq P(Y^{a=0}=1)$\n",
    "\n",
    " 1. $P(Y^{a=1} =1) - P(Y^{a=0}=1)$ known as $\\textbf{causal risk}$\n",
    " 2. $\\frac{P(Y^{a=1} =1)}{P(Y^{a=0}=1)}$ known as $\\textbf{risk ratio}$\n",
    " 3. $\\frac{P(Y^{a=1} =1)/P(Y^{a=1}=0)}{P(Y^{a=0}=1)/P(Y^{a=0}=0)}$ known as $\\textbf{odds ratio}$"
   ]
  },
  {
   "cell_type": "markdown",
   "metadata": {},
   "source": [
    "* Equivalent ways to represent the causal null\n",
    "\n",
    "1. $P(Y^{a=1} =1) - P(Y^{a=0}=1) = 0$ causal risk\n",
    "2. $\\frac{P(Y^{a=1} =1)}{P(Y^{a=0}=1)} = 1$ risk ratio\n",
    "3. $\\frac{P(Y^{a=1} =1)/P(Y^{a=1}=0)}{P(Y^{a=0}=1)/P(Y^{a=0}=0)} = 1$ odds ratio"
   ]
  },
  {
   "cell_type": "markdown",
   "metadata": {},
   "source": [
    "* We can verify for our example that the risk ratio is indeed 1. "
   ]
  },
  {
   "cell_type": "code",
   "execution_count": 10,
   "metadata": {},
   "outputs": [
    {
     "name": "stdout",
     "output_type": "stream",
     "text": [
      "Null hypothesis of no causal effect is satisfied\n"
     ]
    }
   ],
   "source": [
    "PY_a1 = data['y^a=1'].sum()/data.shape[0]\n",
    "PY_a0 = data['y^a=0'].sum()/data.shape[0]\n",
    "\n",
    "risk_ratio = PY_a1/PY_a0\n",
    "\n",
    "if risk_ratio == 1:\n",
    "    print('Null hypothesis of no causal effect is satisfied')\n",
    "else:\n",
    "    print('Null hypothesis of no causal effect is NOT satisfied')"
   ]
  },
  {
   "cell_type": "markdown",
   "metadata": {},
   "source": [
    "## Section 4: Summary "
   ]
  },
  {
   "cell_type": "markdown",
   "metadata": {},
   "source": [
    "* For each person in our population we have potential outcomes $Y^{a=j}$ which represent the outcome (in our example binary) under treatment $j$. We will only get to observe one of these potential outcomes. \n",
    "\n",
    "* For purposes of illustration we created a complete data set with no missing values to illustrate the concepts.\n",
    "\n",
    "* We introduce a notion of random causal effect by picking individuals at random from the population. This lead to the notion of $P(Y^{a=j}=1)$, the probability that a randomly chosen individual will have a potential outcome equal to $1$ under treatment $j$. \n",
    "\n",
    "* We define three measures for average causal effect allowing us to quantify the causal difference of the two outcomes in our example. "
   ]
  }
 ],
 "metadata": {
  "kernelspec": {
   "display_name": "Python 3",
   "language": "python",
   "name": "python3"
  },
  "language_info": {
   "codemirror_mode": {
    "name": "ipython",
    "version": 3
   },
   "file_extension": ".py",
   "mimetype": "text/x-python",
   "name": "python",
   "nbconvert_exporter": "python",
   "pygments_lexer": "ipython3",
   "version": "3.8.2"
  }
 },
 "nbformat": 4,
 "nbformat_minor": 4
}
